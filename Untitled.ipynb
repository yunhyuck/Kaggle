{
 "cells": [
  {
   "cell_type": "markdown",
   "metadata": {},
   "source": [
    "# Environment Modules\n",
    "* Scikit-learn - 0.20.0\n",
    "* XGBoost - 0.90\n",
    "* numpy - 1.15.4\n",
    "* pandas - 0.24.2\n",
    "* seaborn - 0.9.0\n",
    "* matplotlib - 3.1.0\n",
    "* jupyter - 5.7.8\n  ",
    "## Used Training data set\n",
    "[WSDM](https://www.kaggle.com/c/kkbox-music-recommendation-challenge/data) - KKBox's Music Recommendation Challenge by isrc"
   ]
  },
  {
   "cell_type": "code",
   "execution_count": 59,
   "metadata": {},
   "outputs": [],
   "source": [
    "from sklearn.model_selection import cross_val_score, GridSearchCV, train_test_split\n",
    "from sklearn import metrics, ensemble\n",
    "import xgboost as xgb\n",
    "import numpy as np\n",
    "import pandas as pd\n",
    "import seaborn as sns\n",
    "import matplotlib.pyplot as plt\n",
    "import matplotlib as mpl\n",
    "import warnings\n",
    "warnings.filterwarnings('ignore')\n",
    "plt.style.use('ggplot')"
   ]
  },
  {
   "cell_type": "markdown",
   "metadata": {},
   "source": [
    "### Load data"
   ]
  },
  {
   "cell_type": "code",
   "execution_count": 60,
   "metadata": {},
   "outputs": [],
   "source": [
    "df = pd.read_csv('./data/train.csv')"
   ]
  },
  {
   "cell_type": "markdown",
   "metadata": {},
   "source": [
    "### Sample of items(1%)\n",
    "* 0.01 > 0.1%\n",
    "* 0.1 > 1%"
   ]
  },
  {
   "cell_type": "code",
   "execution_count": 61,
   "metadata": {},
   "outputs": [],
   "source": [
    "df = df.sample(frac=0.01)"
   ]
  },
  {
   "cell_type": "markdown",
   "metadata": {},
   "source": [
    "### Load and Merge _songs_ data"
   ]
  },
  {
   "cell_type": "code",
   "execution_count": 62,
   "metadata": {},
   "outputs": [],
   "source": [
    "songs = pd.read_csv('./data/songs.csv')\n",
    "df = pd.merge(df, songs, on='song_id', how='left')\n",
    "del songs"
   ]
  },
  {
   "cell_type": "markdown",
   "metadata": {},
   "source": [
    "### Load and Merge _members_ data"
   ]
  },
  {
   "cell_type": "code",
   "execution_count": 63,
   "metadata": {},
   "outputs": [],
   "source": [
    "members = pd.read_csv('./data/members.csv')\n",
    "df = pd.merge(df, members, on='msno', how='left')\n",
    "del members"
   ]
  },
  {
   "cell_type": "markdown",
   "metadata": {},
   "source": [
    "### DataFrame Information\n",
    "* Total Index : 73,774,170(100%) -> 1.0+@(__GB__)\n",
    "* Used Index : 737,741(1%) -> 106.9+@(__MB__)\n",
    "* predict Index : 7,374(0.1%) - > 10.7+@(__MB__)"
   ]
  },
  {
   "cell_type": "code",
   "execution_count": 64,
   "metadata": {},
   "outputs": [
    {
     "name": "stdout",
     "output_type": "stream",
     "text": [
      "<class 'pandas.core.frame.DataFrame'>\n",
      "Int64Index: 73774 entries, 0 to 73773\n",
      "Data columns (total 18 columns):\n",
      "msno                      73774 non-null object\n",
      "song_id                   73774 non-null object\n",
      "source_system_tab         73536 non-null object\n",
      "source_screen_name        69764 non-null object\n",
      "source_type               73560 non-null object\n",
      "target                    73774 non-null int64\n",
      "song_length               73773 non-null float64\n",
      "genre_ids                 72574 non-null object\n",
      "artist_name               73773 non-null object\n",
      "composer                  57207 non-null object\n",
      "lyricist                  42168 non-null object\n",
      "language                  73773 non-null float64\n",
      "city                      73774 non-null int64\n",
      "bd                        73774 non-null int64\n",
      "gender                    44410 non-null object\n",
      "registered_via            73774 non-null int64\n",
      "registration_init_time    73774 non-null int64\n",
      "expiration_date           73774 non-null int64\n",
      "dtypes: float64(2), int64(6), object(10)\n",
      "memory usage: 10.7+ MB\n"
     ]
    }
   ],
   "source": [
    "df.info()"
   ]
  },
  {
   "cell_type": "markdown",
   "metadata": {},
   "source": [
    "## Null Data Count(%)"
   ]
  },
  {
   "cell_type": "code",
   "execution_count": 65,
   "metadata": {},
   "outputs": [
    {
     "data": {
      "text/plain": [
       "msno                       0.000000\n",
       "song_id                    0.000000\n",
       "source_system_tab          0.322607\n",
       "source_screen_name         5.435519\n",
       "source_type                0.290075\n",
       "target                     0.000000\n",
       "song_length                0.001355\n",
       "genre_ids                  1.626589\n",
       "artist_name                0.001355\n",
       "composer                  22.456421\n",
       "lyricist                  42.841652\n",
       "language                   0.001355\n",
       "city                       0.000000\n",
       "bd                         0.000000\n",
       "gender                    39.802640\n",
       "registered_via             0.000000\n",
       "registration_init_time     0.000000\n",
       "expiration_date            0.000000\n",
       "dtype: float64"
      ]
     },
     "execution_count": 65,
     "metadata": {},
     "output_type": "execute_result"
    }
   ],
   "source": [
    "df.isnull().sum()/df.isnull().count()*100"
   ]
  },
  {
   "cell_type": "markdown",
   "metadata": {},
   "source": [
    "## Replace(delete) NULL >> unknown"
   ]
  },
  {
   "cell_type": "code",
   "execution_count": 66,
   "metadata": {},
   "outputs": [],
   "source": [
    "for i in df.select_dtypes(include=['object']).columns:\n",
    "    df[i][df[i].isnull()] = 'unknown'\n",
    "df = df.fillna(value=0)"
   ]
  },
  {
   "cell_type": "markdown",
   "metadata": {},
   "source": [
    "## Create Dates\n",
    "Date format :%Y%m%d  \n",
    "Used each date format"
   ]
  },
  {
   "cell_type": "code",
   "execution_count": 67,
   "metadata": {},
   "outputs": [],
   "source": [
    "# registration_init_time(초기 등록 일자)\n",
    "df.registration_init_time = pd.to_datetime(df.registration_init_time, format='%Y%m%d', errors='ignore')\n",
    "df['registration_init_time_year'] = df['registration_init_time'].dt.year\n",
    "df['registration_init_time_month'] = df['registration_init_time'].dt.month\n",
    "df['registration_init_time_day'] = df['registration_init_time'].dt.day\n",
    "\n",
    "# expiration_date(마감 일자)\n",
    "df.expiration_date = pd.to_datetime(df.expiration_date,  format='%Y%m%d', errors='ignore')\n",
    "df['expiration_date_year'] = df['expiration_date'].dt.year\n",
    "df['expiration_date_month'] = df['expiration_date'].dt.month\n",
    "df['expiration_date_day'] = df['expiration_date'].dt.day"
   ]
  },
  {
   "cell_type": "code",
   "execution_count": 68,
   "metadata": {},
   "outputs": [
    {
     "data": {
      "text/html": [
       "<div>\n",
       "<style scoped>\n",
       "    .dataframe tbody tr th:only-of-type {\n",
       "        vertical-align: middle;\n",
       "    }\n",
       "\n",
       "    .dataframe tbody tr th {\n",
       "        vertical-align: top;\n",
       "    }\n",
       "\n",
       "    .dataframe thead th {\n",
       "        text-align: right;\n",
       "    }\n",
       "</style>\n",
       "<table border=\"1\" class=\"dataframe\">\n",
       "  <thead>\n",
       "    <tr style=\"text-align: right;\">\n",
       "      <th></th>\n",
       "      <th>msno</th>\n",
       "      <th>song_id</th>\n",
       "      <th>source_system_tab</th>\n",
       "      <th>source_screen_name</th>\n",
       "      <th>source_type</th>\n",
       "      <th>target</th>\n",
       "      <th>song_length</th>\n",
       "      <th>genre_ids</th>\n",
       "      <th>artist_name</th>\n",
       "      <th>composer</th>\n",
       "      <th>...</th>\n",
       "      <th>gender</th>\n",
       "      <th>registered_via</th>\n",
       "      <th>registration_init_time</th>\n",
       "      <th>expiration_date</th>\n",
       "      <th>registration_init_time_year</th>\n",
       "      <th>registration_init_time_month</th>\n",
       "      <th>registration_init_time_day</th>\n",
       "      <th>expiration_date_year</th>\n",
       "      <th>expiration_date_month</th>\n",
       "      <th>expiration_date_day</th>\n",
       "    </tr>\n",
       "  </thead>\n",
       "  <tbody>\n",
       "    <tr>\n",
       "      <th>0</th>\n",
       "      <td>ATnGnyeNcYFZKKRPtpQW6SkUpfSUl0Uz5Gg3Ru0Qwg8=</td>\n",
       "      <td>fdRAokHGxZlwa4pNIaed5LXuTq2i2SDNe/9IqKEMkqc=</td>\n",
       "      <td>my library</td>\n",
       "      <td>Local playlist more</td>\n",
       "      <td>local-playlist</td>\n",
       "      <td>1</td>\n",
       "      <td>229537.0</td>\n",
       "      <td>1259</td>\n",
       "      <td>Various Artists</td>\n",
       "      <td>unknown</td>\n",
       "      <td>...</td>\n",
       "      <td>unknown</td>\n",
       "      <td>7</td>\n",
       "      <td>2016-01-07</td>\n",
       "      <td>2017-10-07</td>\n",
       "      <td>2016</td>\n",
       "      <td>1</td>\n",
       "      <td>7</td>\n",
       "      <td>2017</td>\n",
       "      <td>10</td>\n",
       "      <td>7</td>\n",
       "    </tr>\n",
       "    <tr>\n",
       "      <th>1</th>\n",
       "      <td>CA+85S3YBVtbz1jrRhPmuQFjMk+8a1CExDKLGJ77+Js=</td>\n",
       "      <td>vLkGTr3TJU9TGTJ1XBHCr4UoGCwaxqGPIHB05UeIscI=</td>\n",
       "      <td>search</td>\n",
       "      <td>Artist more</td>\n",
       "      <td>top-hits-for-artist</td>\n",
       "      <td>0</td>\n",
       "      <td>255059.0</td>\n",
       "      <td>465</td>\n",
       "      <td>李宇春 (Chris Lee)</td>\n",
       "      <td>陳奐仁</td>\n",
       "      <td>...</td>\n",
       "      <td>male</td>\n",
       "      <td>9</td>\n",
       "      <td>2011-02-17</td>\n",
       "      <td>2017-10-27</td>\n",
       "      <td>2011</td>\n",
       "      <td>2</td>\n",
       "      <td>17</td>\n",
       "      <td>2017</td>\n",
       "      <td>10</td>\n",
       "      <td>27</td>\n",
       "    </tr>\n",
       "    <tr>\n",
       "      <th>2</th>\n",
       "      <td>t9m6n01Sr6VIw278Vp3OYoZ9p9Q750+U8T+obxy2IEQ=</td>\n",
       "      <td>tbM8ByK21+iSDWZlT1yNgffPdQ5h9Wbk0hxS5RHQaCo=</td>\n",
       "      <td>my library</td>\n",
       "      <td>Local playlist more</td>\n",
       "      <td>local-library</td>\n",
       "      <td>0</td>\n",
       "      <td>249312.0</td>\n",
       "      <td>458</td>\n",
       "      <td>16個夏天 電視原聲帶</td>\n",
       "      <td>Peter Mansson| Vicky Karagiorgos</td>\n",
       "      <td>...</td>\n",
       "      <td>female</td>\n",
       "      <td>9</td>\n",
       "      <td>2011-10-11</td>\n",
       "      <td>2017-07-11</td>\n",
       "      <td>2011</td>\n",
       "      <td>10</td>\n",
       "      <td>11</td>\n",
       "      <td>2017</td>\n",
       "      <td>7</td>\n",
       "      <td>11</td>\n",
       "    </tr>\n",
       "    <tr>\n",
       "      <th>3</th>\n",
       "      <td>YN+zi4cXn8pNoA2qS0gtewM2bkFErdf8KDnqh47SBqQ=</td>\n",
       "      <td>PggZ9ma8Vpqehjl6iYVMLAhuKWDsMzKZnChkfA5bdvw=</td>\n",
       "      <td>discover</td>\n",
       "      <td>Search</td>\n",
       "      <td>online-playlist</td>\n",
       "      <td>0</td>\n",
       "      <td>219715.0</td>\n",
       "      <td>458</td>\n",
       "      <td>楊炅翰 &amp; 嚴藝丹 (Johan &amp; Ivyan)</td>\n",
       "      <td>Johan</td>\n",
       "      <td>...</td>\n",
       "      <td>female</td>\n",
       "      <td>3</td>\n",
       "      <td>2015-06-13</td>\n",
       "      <td>2018-01-04</td>\n",
       "      <td>2015</td>\n",
       "      <td>6</td>\n",
       "      <td>13</td>\n",
       "      <td>2018</td>\n",
       "      <td>1</td>\n",
       "      <td>4</td>\n",
       "    </tr>\n",
       "    <tr>\n",
       "      <th>4</th>\n",
       "      <td>uUsGH020Ypo4Oa4cAdGSkHpeWyjFDRd45flQKrPmhGg=</td>\n",
       "      <td>tBGEEPX42d7Vlb+XFKKSv2W7PIv+74GvkIEvV3KY+Ok=</td>\n",
       "      <td>discover</td>\n",
       "      <td>unknown</td>\n",
       "      <td>song</td>\n",
       "      <td>0</td>\n",
       "      <td>239177.0</td>\n",
       "      <td>465</td>\n",
       "      <td>郁可唯 (Yisa Yu)</td>\n",
       "      <td>潘協慶</td>\n",
       "      <td>...</td>\n",
       "      <td>female</td>\n",
       "      <td>7</td>\n",
       "      <td>2016-03-11</td>\n",
       "      <td>2017-10-02</td>\n",
       "      <td>2016</td>\n",
       "      <td>3</td>\n",
       "      <td>11</td>\n",
       "      <td>2017</td>\n",
       "      <td>10</td>\n",
       "      <td>2</td>\n",
       "    </tr>\n",
       "  </tbody>\n",
       "</table>\n",
       "<p>5 rows × 24 columns</p>\n",
       "</div>"
      ],
      "text/plain": [
       "                                           msno  \\\n",
       "0  ATnGnyeNcYFZKKRPtpQW6SkUpfSUl0Uz5Gg3Ru0Qwg8=   \n",
       "1  CA+85S3YBVtbz1jrRhPmuQFjMk+8a1CExDKLGJ77+Js=   \n",
       "2  t9m6n01Sr6VIw278Vp3OYoZ9p9Q750+U8T+obxy2IEQ=   \n",
       "3  YN+zi4cXn8pNoA2qS0gtewM2bkFErdf8KDnqh47SBqQ=   \n",
       "4  uUsGH020Ypo4Oa4cAdGSkHpeWyjFDRd45flQKrPmhGg=   \n",
       "\n",
       "                                        song_id source_system_tab  \\\n",
       "0  fdRAokHGxZlwa4pNIaed5LXuTq2i2SDNe/9IqKEMkqc=        my library   \n",
       "1  vLkGTr3TJU9TGTJ1XBHCr4UoGCwaxqGPIHB05UeIscI=            search   \n",
       "2  tbM8ByK21+iSDWZlT1yNgffPdQ5h9Wbk0hxS5RHQaCo=        my library   \n",
       "3  PggZ9ma8Vpqehjl6iYVMLAhuKWDsMzKZnChkfA5bdvw=          discover   \n",
       "4  tBGEEPX42d7Vlb+XFKKSv2W7PIv+74GvkIEvV3KY+Ok=          discover   \n",
       "\n",
       "    source_screen_name          source_type  target  song_length genre_ids  \\\n",
       "0  Local playlist more       local-playlist       1     229537.0      1259   \n",
       "1          Artist more  top-hits-for-artist       0     255059.0       465   \n",
       "2  Local playlist more        local-library       0     249312.0       458   \n",
       "3               Search      online-playlist       0     219715.0       458   \n",
       "4              unknown                 song       0     239177.0       465   \n",
       "\n",
       "                 artist_name                          composer  ...   gender  \\\n",
       "0            Various Artists                           unknown  ...  unknown   \n",
       "1            李宇春 (Chris Lee)                               陳奐仁  ...     male   \n",
       "2                16個夏天 電視原聲帶  Peter Mansson| Vicky Karagiorgos  ...   female   \n",
       "3  楊炅翰 & 嚴藝丹 (Johan & Ivyan)                             Johan  ...   female   \n",
       "4              郁可唯 (Yisa Yu)                               潘協慶  ...   female   \n",
       "\n",
       "   registered_via  registration_init_time  expiration_date  \\\n",
       "0               7              2016-01-07       2017-10-07   \n",
       "1               9              2011-02-17       2017-10-27   \n",
       "2               9              2011-10-11       2017-07-11   \n",
       "3               3              2015-06-13       2018-01-04   \n",
       "4               7              2016-03-11       2017-10-02   \n",
       "\n",
       "  registration_init_time_year  registration_init_time_month  \\\n",
       "0                        2016                             1   \n",
       "1                        2011                             2   \n",
       "2                        2011                            10   \n",
       "3                        2015                             6   \n",
       "4                        2016                             3   \n",
       "\n",
       "  registration_init_time_day expiration_date_year  expiration_date_month  \\\n",
       "0                          7                 2017                     10   \n",
       "1                         17                 2017                     10   \n",
       "2                         11                 2017                      7   \n",
       "3                         13                 2018                      1   \n",
       "4                         11                 2017                     10   \n",
       "\n",
       "   expiration_date_day  \n",
       "0                    7  \n",
       "1                   27  \n",
       "2                   11  \n",
       "3                    4  \n",
       "4                    2  \n",
       "\n",
       "[5 rows x 24 columns]"
      ]
     },
     "execution_count": 68,
     "metadata": {},
     "output_type": "execute_result"
    }
   ],
   "source": [
    "df.head()"
   ]
  },
  {
   "cell_type": "markdown",
   "metadata": {},
   "source": [
    "## Type of category\n",
    "make date group for each date format"
   ]
  },
  {
   "cell_type": "code",
   "execution_count": 69,
   "metadata": {},
   "outputs": [],
   "source": [
    "# Date to category\n",
    "df['registration_init_time'] = df['registration_init_time'].astype('category')\n",
    "df['expiration_date'] = df['expiration_date'].astype('category')"
   ]
  },
  {
   "cell_type": "code",
   "execution_count": 70,
   "metadata": {
    "code_folding": []
   },
   "outputs": [],
   "source": [
    "# Object data to category\n",
    "for col in df.select_dtypes(include=['object']).columns:\n",
    "    df[col] = df[col].astype('category')\n",
    "    \n",
    "# Encoding categorical features\n",
    "for col in df.select_dtypes(include=['category']).columns:\n",
    "    df[col] = df[col].cat.codes"
   ]
  },
  {
   "cell_type": "markdown",
   "metadata": {},
   "source": [
    "## Сorrelation matrix"
   ]
  },
  {
   "cell_type": "code",
   "execution_count": 71,
   "metadata": {},
   "outputs": [
    {
     "data": {
      "image/png": "[encoded data removed]",
      "text/plain": [
       "<Figure size 720x576 with 2 Axes>"
      ]
     },
     "metadata": {},
     "output_type": "display_data"
    }
   ],
   "source": [
    "plt.figure(figsize=[10,8])\n",
    "sns.heatmap(df.corr())\n",
    "plt.show()"
   ]
  },
  {
   "cell_type": "markdown",
   "metadata": {},
   "source": [
    "## Drop columns"
   ]
  },
  {
   "cell_type": "code",
   "execution_count": 72,
   "metadata": {},
   "outputs": [],
   "source": [
    "df = df.drop(['expiration_date', 'lyricist'], 1)"
   ]
  },
  {
   "cell_type": "markdown",
   "metadata": {},
   "source": [
    "## Train & Test split"
   ]
  },
  {
   "cell_type": "code",
   "execution_count": 73,
   "metadata": {},
   "outputs": [],
   "source": [
    "target = df.pop('target')\n",
    "train_data, test_data, train_labels, test_labels = train_test_split(df, target, test_size = 0.3)\n",
    "\n",
    "# Delete dataframe\n",
    "del df"
   ]
  },
  {
   "cell_type": "markdown",
   "metadata": {},
   "source": [
    "## Create XGBoost model"
   ]
  },
  {
   "cell_type": "code",
   "execution_count": 75,
   "metadata": {},
   "outputs": [
    {
     "data": {
      "text/plain": [
       "XGBClassifier(base_score=0.5, booster='gbtree', colsample_bylevel=1,\n",
       "       colsample_bynode=1, colsample_bytree=1, gamma=0, learning_rate=0.1,\n",
       "       max_delta_step=0, max_depth=15, min_child_weight=5, missing=None,\n",
       "       n_estimators=250, n_jobs=1, nthread=None,\n",
       "       objective='binary:logistic', random_state=0, reg_alpha=0,\n",
       "       reg_lambda=1, scale_pos_weight=1, seed=None, silent=None,\n",
       "       subsample=1, verbosity=1)"
      ]
     },
     "execution_count": 75,
     "metadata": {},
     "output_type": "execute_result"
    }
   ],
   "source": [
    "model = xgb.XGBClassifier(learning_rate=0.1, max_depth=15, min_child_weight=5, n_estimators=250)\n",
    "model.fit(train_data, train_labels)"
   ]
  },
  {
   "cell_type": "markdown",
   "metadata": {},
   "source": [
    "## Predict"
   ]
  },
  {
   "cell_type": "code",
   "execution_count": 76,
   "metadata": {},
   "outputs": [
    {
     "data": {
      "text/plain": [
       "array([0, 0, 1, ..., 1, 1, 0], dtype=int64)"
      ]
     },
     "execution_count": 76,
     "metadata": {},
     "output_type": "execute_result"
    }
   ],
   "source": [
    "predict_labels = model.predict(test_data)\n",
    "predict_labels"
   ]
  },
  {
   "cell_type": "markdown",
   "metadata": {},
   "source": [
    "### Accuracy\n",
    "* Total Index : 73,774,170(100%) -> (__Memory over__)\n",
    "* Used Index : 737,741(1%) -> (__68%__)\n",
    "* predict Index : 7,374(0.1%) - > (__63%__)"
   ]
  },
  {
   "cell_type": "code",
   "execution_count": 78,
   "metadata": {},
   "outputs": [
    {
     "name": "stdout",
     "output_type": "stream",
     "text": [
      "              precision    recall  f1-score   support\n",
      "\n",
      "           0       0.63      0.60      0.62     10921\n",
      "           1       0.63      0.65      0.64     11212\n",
      "\n",
      "   micro avg       0.63      0.63      0.63     22133\n",
      "   macro avg       0.63      0.63      0.63     22133\n",
      "weighted avg       0.63      0.63      0.63     22133\n",
      "\n"
     ]
    }
   ],
   "source": [
    "print(metrics.classification_report(test_labels, predict_labels))"
   ]
  },
  {
   "cell_type": "code",
   "execution_count": null,
   "metadata": {},
   "outputs": [],
   "source": []
  }
 ],
 "metadata": {
  "kernelspec": {
   "display_name": "Python 3",
   "language": "python",
   "name": "python3"
  },
  "language_info": {
   "codemirror_mode": {
    "name": "ipython",
    "version": 3
   },
   "file_extension": ".py",
   "mimetype": "text/x-python",
   "name": "python",
   "nbconvert_exporter": "python",
   "pygments_lexer": "ipython3",
   "version": "3.6.0"
  }
 },
 "nbformat": 4,
 "nbformat_minor": 2
}
